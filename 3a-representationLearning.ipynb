{
 "cells": [
  {
   "cell_type": "markdown",
   "metadata": {},
   "source": [
    "# NLP & representation learning: Neural Embeddings, Text Classification\n",
    "\n",
    "\n",
    "To use statistical classifiers with text, it is first necessary to vectorize the text. In the first practical session we explored the **Bag of Word (BoW)** model. \n",
    "\n",
    "Modern **state of the art** methods uses  embeddings to vectorize the text before classification in order to avoid feature engineering.\n",
    "\n",
    "## [Dataset](https://thome.isir.upmc.fr/classes/RITAL/json_pol)\n",
    "\n",
    "\n",
    "## \"Modern\" NLP pipeline\n",
    "\n",
    "By opposition to the **bag of word** model, in the modern NLP pipeline everything is **embeddings**. Instead of encoding a text as a **sparse vector** of length $D$ (size of feature dictionnary) the goal is to encode the text in a meaningful dense vector of a small size $|e| <<< |D|$. \n",
    "\n",
    "\n",
    "The raw classification pipeline is then the following:\n",
    "\n",
    "```\n",
    "raw text ---|embedding table|-->  vectors --|Neural Net|--> class \n",
    "```\n",
    "\n",
    "\n",
    "### Using a  language model:\n",
    "\n",
    "How to tokenize the text and extract a feature dictionnary is still a manual task. To directly have meaningful embeddings, it is common to use a pre-trained language model such as `word2vec` which we explore in this practical.\n",
    "\n",
    "In this setting, the pipeline becomes the following:\n",
    "```\n",
    "      \n",
    "raw text ---|(pre-trained) Language Model|--> vectors --|classifier (or fine-tuning)|--> class \n",
    "```\n",
    "\n",
    "\n",
    "- #### Classic word embeddings\n",
    "\n",
    " - [Word2Vec](https://arxiv.org/abs/1301.3781)\n",
    " - [Glove](https://nlp.stanford.edu/projects/glove/)\n",
    "\n",
    "\n",
    "- #### bleeding edge language models techniques (see next)\n",
    "\n",
    " - [UMLFIT](https://arxiv.org/abs/1801.06146)\n",
    " - [ELMO](https://arxiv.org/abs/1802.05365)\n",
    " - [GPT](https://blog.openai.com/language-unsupervised/)\n",
    " - [BERT](https://arxiv.org/abs/1810.04805)\n",
    "\n",
    "\n",
    "\n",
    "\n",
    "\n",
    "\n",
    "### Goal of this session:\n",
    "\n",
    "1. Train word embeddings on training dataset\n",
    "2. Tinker with the learnt embeddings and see learnt relations\n",
    "3. Tinker with pre-trained embeddings.\n",
    "4. Use those embeddings for classification\n",
    "5. Compare different embedding models\n",
    "6. Pytorch first look: learn to generate text."
   ]
  },
  {
   "cell_type": "markdown",
   "metadata": {},
   "source": [
    "## STEP 0: Loading data "
   ]
  },
  {
   "cell_type": "code",
   "execution_count": 1,
   "metadata": {},
   "outputs": [
    {
     "name": "stdout",
     "output_type": "stream",
     "text": [
      "Number of train reviews :  25000\n",
      "----> # of positive :  12500\n",
      "----> # of negative :  12500\n",
      "\n",
      "[\"The undoubted highlight of this movie is Peter O'Toole's performance. In turn wildly comical and terribly terribly tragic. Does anybody do it better than O'Toole? I don't think so. What a great face that man has!<br /><br />The story is an odd one and quite disturbing and emotionally intense in parts (especially toward the end) but it is also oddly touching and does succeed on many levels. However, I felt the film basically revolved around Peter O'Toole's luminous performance and I'm sure I wouldn't have enjoyed it even half as much if he hadn't been in it.\", 1]\n",
      "\n",
      "Number of test reviews :  25000\n",
      "----> # of positive :  12500\n",
      "----> # of negative :  12500\n",
      "\n",
      "['Although credit should have been given to Dr. Seuess for stealing the story-line of \"Horton Hatches The Egg\", this was a fine film. It touched both the emotions and the intellect. Due especially to the incredible performance of seven year old Justin Henry and a script that was sympathetic to each character (and each one\\'s predicament), the thought provoking elements linger long after the tear jerking ones are over. Overall, superior acting from a solid cast, excellent directing, and a very powerful script. The right touches of humor throughout help keep a \"heavy\" subject from becoming tedious or difficult to sit through. Lastly, this film stands the test of time and seems in no way dated, decades after it was released.', 1]\n",
      "\n"
     ]
    }
   ],
   "source": [
    "import json\n",
    "from collections import Counter\n",
    "\n",
    "# Loading json\n",
    "with open(\"json_pol\",encoding=\"utf-8\") as f:\n",
    "    data = f.readlines()\n",
    "    json_data = json.loads(data[0])\n",
    "    train = json_data[\"train\"]\n",
    "    test = json_data[\"test\"]\n",
    "    \n",
    "\n",
    "# Quick Check\n",
    "counter_train = Counter((x[1] for x in train))\n",
    "counter_test = Counter((x[1] for x in test))\n",
    "print(\"Number of train reviews : \", len(train))\n",
    "print(\"----> # of positive : \", counter_train[1])\n",
    "print(\"----> # of negative : \", counter_train[0])\n",
    "print(\"\")\n",
    "print(train[0])\n",
    "print(\"\")\n",
    "print(\"Number of test reviews : \",len(test))\n",
    "print(\"----> # of positive : \", counter_test[1])\n",
    "print(\"----> # of negative : \", counter_test[0])\n",
    "\n",
    "print(\"\")\n",
    "print(test[0])\n",
    "print(\"\")"
   ]
  },
  {
   "cell_type": "markdown",
   "metadata": {},
   "source": [
    "## Word2Vec: Quick Recap\n",
    "\n",
    "**[Word2Vec](https://arxiv.org/abs/1301.3781) is composed of two distinct language models (CBOW and SG), optimized to quickly learn word vectors**\n",
    "\n",
    "\n",
    "given a random text: `i'm taking the dog out for a walk`\n",
    "\n",
    "\n",
    "\n",
    "### (a) Continuous Bag of Word (CBOW)\n",
    "    -  predicts a word given a context\n",
    "    \n",
    "maximizing `p(dog | i'm taking the ___ out for a walk)`\n",
    "    \n",
    "### (b) Skip-Gram (SG)               \n",
    "    -  predicts a context given a word\n",
    "    \n",
    " maximizing `p(i'm taking the out for a walk | dog)`\n",
    "\n",
    "\n",
    "\n",
    "   "
   ]
  },
  {
   "cell_type": "markdown",
   "metadata": {},
   "source": [
    "## STEP 1: train a language model (word2vec)\n",
    "\n",
    "Gensim has one of [Word2Vec](https://radimrehurek.com/gensim/models/word2vec.html) fastest implementation.\n",
    "\n",
    "\n",
    "### Train:"
   ]
  },
  {
   "cell_type": "code",
   "execution_count": 2,
   "metadata": {},
   "outputs": [],
   "source": [
    "# if gensim not installed yet\n",
    "# ! pip install gensim"
   ]
  },
  {
   "cell_type": "code",
   "execution_count": 3,
   "metadata": {},
   "outputs": [
    {
     "name": "stderr",
     "output_type": "stream",
     "text": [
      "2023-03-19 13:32:02,221 : INFO : collecting all words and their counts\n",
      "2023-03-19 13:32:02,222 : INFO : PROGRESS: at sentence #0, processed 0 words, keeping 0 word types\n",
      "2023-03-19 13:32:03,116 : INFO : PROGRESS: at sentence #10000, processed 2358544 words, keeping 155393 word types\n",
      "2023-03-19 13:32:03,936 : INFO : PROGRESS: at sentence #20000, processed 4675912 words, keeping 243050 word types\n",
      "2023-03-19 13:32:04,341 : INFO : collected 280617 word types from a corpus of 5844680 raw words and 25000 sentences\n",
      "2023-03-19 13:32:04,342 : INFO : Creating a fresh vocabulary\n",
      "2023-03-19 13:32:04,603 : INFO : Word2Vec lifecycle event {'msg': 'effective_min_count=5 retains 49345 unique words (17.58% of original 280617, drops 231272)', 'datetime': '2023-03-19T13:32:04.603310', 'gensim': '4.3.1', 'python': '3.11.0 (main, Oct 24 2022, 18:26:48) [MSC v.1933 64 bit (AMD64)]', 'platform': 'Windows-10-10.0.19045-SP0', 'event': 'prepare_vocab'}\n",
      "2023-03-19 13:32:04,604 : INFO : Word2Vec lifecycle event {'msg': 'effective_min_count=5 leaves 5517507 word corpus (94.40% of original 5844680, drops 327173)', 'datetime': '2023-03-19T13:32:04.604281', 'gensim': '4.3.1', 'python': '3.11.0 (main, Oct 24 2022, 18:26:48) [MSC v.1933 64 bit (AMD64)]', 'platform': 'Windows-10-10.0.19045-SP0', 'event': 'prepare_vocab'}\n",
      "2023-03-19 13:32:04,884 : INFO : deleting the raw counts dictionary of 280617 items\n",
      "2023-03-19 13:32:04,891 : INFO : sample=0.001 downsamples 43 most-common words\n",
      "2023-03-19 13:32:04,893 : INFO : Word2Vec lifecycle event {'msg': 'downsampling leaves estimated 4268608.194985565 word corpus (77.4%% of prior 5517507)', 'datetime': '2023-03-19T13:32:04.893382', 'gensim': '4.3.1', 'python': '3.11.0 (main, Oct 24 2022, 18:26:48) [MSC v.1933 64 bit (AMD64)]', 'platform': 'Windows-10-10.0.19045-SP0', 'event': 'prepare_vocab'}\n",
      "2023-03-19 13:32:05,305 : INFO : estimated required memory for 49345 words and 100 dimensions: 64148500 bytes\n",
      "2023-03-19 13:32:05,306 : INFO : resetting layer weights\n",
      "2023-03-19 13:32:05,342 : INFO : Word2Vec lifecycle event {'update': False, 'trim_rule': 'None', 'datetime': '2023-03-19T13:32:05.342014', 'gensim': '4.3.1', 'python': '3.11.0 (main, Oct 24 2022, 18:26:48) [MSC v.1933 64 bit (AMD64)]', 'platform': 'Windows-10-10.0.19045-SP0', 'event': 'build_vocab'}\n",
      "2023-03-19 13:32:05,344 : INFO : Word2Vec lifecycle event {'msg': 'training model with 3 workers on 49345 vocabulary and 100 features, using sg=1 hs=0 sample=0.001 negative=5 window=5 shrink_windows=True', 'datetime': '2023-03-19T13:32:05.344010', 'gensim': '4.3.1', 'python': '3.11.0 (main, Oct 24 2022, 18:26:48) [MSC v.1933 64 bit (AMD64)]', 'platform': 'Windows-10-10.0.19045-SP0', 'event': 'train'}\n",
      "2023-03-19 13:32:06,400 : INFO : EPOCH 0 - PROGRESS: at 5.54% examples, 231994 words/s, in_qsize 5, out_qsize 0\n",
      "2023-03-19 13:32:07,420 : INFO : EPOCH 0 - PROGRESS: at 10.85% examples, 227768 words/s, in_qsize 5, out_qsize 0\n",
      "2023-03-19 13:32:08,464 : INFO : EPOCH 0 - PROGRESS: at 15.92% examples, 220397 words/s, in_qsize 5, out_qsize 0\n",
      "2023-03-19 13:32:09,473 : INFO : EPOCH 0 - PROGRESS: at 20.92% examples, 218308 words/s, in_qsize 5, out_qsize 0\n",
      "2023-03-19 13:32:10,505 : INFO : EPOCH 0 - PROGRESS: at 26.59% examples, 221994 words/s, in_qsize 5, out_qsize 0\n",
      "2023-03-19 13:32:11,569 : INFO : EPOCH 0 - PROGRESS: at 33.09% examples, 228747 words/s, in_qsize 5, out_qsize 0\n",
      "2023-03-19 13:32:12,591 : INFO : EPOCH 0 - PROGRESS: at 39.48% examples, 234036 words/s, in_qsize 5, out_qsize 0\n",
      "2023-03-19 13:32:13,605 : INFO : EPOCH 0 - PROGRESS: at 44.50% examples, 231349 words/s, in_qsize 5, out_qsize 0\n",
      "2023-03-19 13:32:14,626 : INFO : EPOCH 0 - PROGRESS: at 49.84% examples, 231402 words/s, in_qsize 5, out_qsize 0\n",
      "2023-03-19 13:32:15,690 : INFO : EPOCH 0 - PROGRESS: at 56.52% examples, 234623 words/s, in_qsize 5, out_qsize 0\n",
      "2023-03-19 13:32:16,707 : INFO : EPOCH 0 - PROGRESS: at 62.87% examples, 238218 words/s, in_qsize 5, out_qsize 0\n",
      "2023-03-19 13:32:17,723 : INFO : EPOCH 0 - PROGRESS: at 69.65% examples, 240795 words/s, in_qsize 5, out_qsize 0\n",
      "2023-03-19 13:32:18,742 : INFO : EPOCH 0 - PROGRESS: at 76.16% examples, 242975 words/s, in_qsize 6, out_qsize 0\n",
      "2023-03-19 13:32:19,804 : INFO : EPOCH 0 - PROGRESS: at 82.74% examples, 244199 words/s, in_qsize 5, out_qsize 0\n",
      "2023-03-19 13:32:20,822 : INFO : EPOCH 0 - PROGRESS: at 89.23% examples, 246348 words/s, in_qsize 5, out_qsize 0\n",
      "2023-03-19 13:32:21,833 : INFO : EPOCH 0 - PROGRESS: at 95.58% examples, 247928 words/s, in_qsize 5, out_qsize 0\n",
      "2023-03-19 13:32:22,472 : INFO : EPOCH 0: training on 5844680 raw words (4269292 effective words) took 17.1s, 249367 effective words/s\n",
      "2023-03-19 13:32:23,491 : INFO : EPOCH 1 - PROGRESS: at 6.04% examples, 260234 words/s, in_qsize 5, out_qsize 0\n",
      "2023-03-19 13:32:24,525 : INFO : EPOCH 1 - PROGRESS: at 12.74% examples, 268240 words/s, in_qsize 5, out_qsize 0\n",
      "2023-03-19 13:32:25,545 : INFO : EPOCH 1 - PROGRESS: at 19.43% examples, 272149 words/s, in_qsize 5, out_qsize 0\n",
      "2023-03-19 13:32:26,554 : INFO : EPOCH 1 - PROGRESS: at 26.02% examples, 273215 words/s, in_qsize 5, out_qsize 0\n",
      "2023-03-19 13:32:27,564 : INFO : EPOCH 1 - PROGRESS: at 32.44% examples, 273805 words/s, in_qsize 6, out_qsize 0\n",
      "2023-03-19 13:32:28,621 : INFO : EPOCH 1 - PROGRESS: at 39.10% examples, 273283 words/s, in_qsize 5, out_qsize 0\n",
      "2023-03-19 13:32:29,636 : INFO : EPOCH 1 - PROGRESS: at 45.74% examples, 274688 words/s, in_qsize 5, out_qsize 0\n",
      "2023-03-19 13:32:30,672 : INFO : EPOCH 1 - PROGRESS: at 51.85% examples, 272359 words/s, in_qsize 5, out_qsize 0\n",
      "2023-03-19 13:32:31,713 : INFO : EPOCH 1 - PROGRESS: at 58.55% examples, 271882 words/s, in_qsize 5, out_qsize 0\n",
      "2023-03-19 13:32:32,719 : INFO : EPOCH 1 - PROGRESS: at 65.04% examples, 272400 words/s, in_qsize 5, out_qsize 0\n",
      "2023-03-19 13:32:33,723 : INFO : EPOCH 1 - PROGRESS: at 71.58% examples, 271858 words/s, in_qsize 5, out_qsize 0\n",
      "2023-03-19 13:32:34,753 : INFO : EPOCH 1 - PROGRESS: at 78.07% examples, 271421 words/s, in_qsize 5, out_qsize 0\n",
      "2023-03-19 13:32:35,760 : INFO : EPOCH 1 - PROGRESS: at 84.50% examples, 271591 words/s, in_qsize 5, out_qsize 0\n",
      "2023-03-19 13:32:36,780 : INFO : EPOCH 1 - PROGRESS: at 91.01% examples, 271902 words/s, in_qsize 5, out_qsize 0\n",
      "2023-03-19 13:32:37,794 : INFO : EPOCH 1 - PROGRESS: at 97.80% examples, 272742 words/s, in_qsize 5, out_qsize 0\n",
      "2023-03-19 13:32:38,100 : INFO : EPOCH 1: training on 5844680 raw words (4268069 effective words) took 15.6s, 273149 effective words/s\n",
      "2023-03-19 13:32:39,112 : INFO : EPOCH 2 - PROGRESS: at 6.04% examples, 262051 words/s, in_qsize 5, out_qsize 0\n",
      "2023-03-19 13:32:40,134 : INFO : EPOCH 2 - PROGRESS: at 12.21% examples, 260012 words/s, in_qsize 5, out_qsize 0\n",
      "2023-03-19 13:32:41,171 : INFO : EPOCH 2 - PROGRESS: at 18.92% examples, 265367 words/s, in_qsize 5, out_qsize 0\n",
      "2023-03-19 13:32:42,180 : INFO : EPOCH 2 - PROGRESS: at 25.66% examples, 269777 words/s, in_qsize 5, out_qsize 0\n",
      "2023-03-19 13:32:43,220 : INFO : EPOCH 2 - PROGRESS: at 32.10% examples, 269411 words/s, in_qsize 5, out_qsize 0\n",
      "2023-03-19 13:32:44,221 : INFO : EPOCH 2 - PROGRESS: at 38.54% examples, 270968 words/s, in_qsize 5, out_qsize 0\n",
      "2023-03-19 13:32:45,251 : INFO : EPOCH 2 - PROGRESS: at 45.23% examples, 272111 words/s, in_qsize 5, out_qsize 0\n",
      "2023-03-19 13:32:46,271 : INFO : EPOCH 2 - PROGRESS: at 51.85% examples, 273325 words/s, in_qsize 5, out_qsize 0\n",
      "2023-03-19 13:32:47,288 : INFO : EPOCH 2 - PROGRESS: at 58.38% examples, 272720 words/s, in_qsize 5, out_qsize 0\n",
      "2023-03-19 13:32:48,299 : INFO : EPOCH 2 - PROGRESS: at 65.04% examples, 273719 words/s, in_qsize 6, out_qsize 0\n",
      "2023-03-19 13:32:49,346 : INFO : EPOCH 2 - PROGRESS: at 72.12% examples, 273967 words/s, in_qsize 5, out_qsize 0\n",
      "2023-03-19 13:32:50,362 : INFO : EPOCH 2 - PROGRESS: at 78.79% examples, 274235 words/s, in_qsize 5, out_qsize 0\n",
      "2023-03-19 13:32:51,413 : INFO : EPOCH 2 - PROGRESS: at 85.32% examples, 273751 words/s, in_qsize 5, out_qsize 0\n",
      "2023-03-19 13:32:52,436 : INFO : EPOCH 2 - PROGRESS: at 91.83% examples, 273889 words/s, in_qsize 5, out_qsize 0\n",
      "2023-03-19 13:32:53,438 : INFO : EPOCH 2 - PROGRESS: at 98.55% examples, 274389 words/s, in_qsize 6, out_qsize 0\n",
      "2023-03-19 13:32:53,647 : INFO : EPOCH 2: training on 5844680 raw words (4268328 effective words) took 15.5s, 274587 effective words/s\n",
      "2023-03-19 13:32:54,668 : INFO : EPOCH 3 - PROGRESS: at 6.04% examples, 260196 words/s, in_qsize 5, out_qsize 0\n",
      "2023-03-19 13:32:55,683 : INFO : EPOCH 3 - PROGRESS: at 12.56% examples, 267261 words/s, in_qsize 5, out_qsize 0\n",
      "2023-03-19 13:32:56,725 : INFO : EPOCH 3 - PROGRESS: at 19.26% examples, 269524 words/s, in_qsize 5, out_qsize 0\n",
      "2023-03-19 13:32:57,731 : INFO : EPOCH 3 - PROGRESS: at 26.02% examples, 273169 words/s, in_qsize 5, out_qsize 0\n",
      "2023-03-19 13:32:58,749 : INFO : EPOCH 3 - PROGRESS: at 32.27% examples, 271974 words/s, in_qsize 5, out_qsize 0\n",
      "2023-03-19 13:32:59,760 : INFO : EPOCH 3 - PROGRESS: at 38.54% examples, 271500 words/s, in_qsize 5, out_qsize 0\n",
      "2023-03-19 13:33:00,782 : INFO : EPOCH 3 - PROGRESS: at 45.08% examples, 271819 words/s, in_qsize 5, out_qsize 0\n",
      "2023-03-19 13:33:01,827 : INFO : EPOCH 3 - PROGRESS: at 51.64% examples, 272269 words/s, in_qsize 6, out_qsize 0\n",
      "2023-03-19 13:33:02,853 : INFO : EPOCH 3 - PROGRESS: at 58.38% examples, 272219 words/s, in_qsize 5, out_qsize 0\n",
      "2023-03-19 13:33:03,862 : INFO : EPOCH 3 - PROGRESS: at 64.89% examples, 272604 words/s, in_qsize 5, out_qsize 0\n",
      "2023-03-19 13:33:04,884 : INFO : EPOCH 3 - PROGRESS: at 71.94% examples, 273537 words/s, in_qsize 5, out_qsize 0\n",
      "2023-03-19 13:33:05,886 : INFO : EPOCH 3 - PROGRESS: at 78.62% examples, 274184 words/s, in_qsize 5, out_qsize 0\n",
      "2023-03-19 13:33:06,908 : INFO : EPOCH 3 - PROGRESS: at 85.01% examples, 273803 words/s, in_qsize 5, out_qsize 0\n",
      "2023-03-19 13:33:07,927 : INFO : EPOCH 3 - PROGRESS: at 91.50% examples, 274023 words/s, in_qsize 5, out_qsize 0\n",
      "2023-03-19 13:33:08,931 : INFO : EPOCH 3 - PROGRESS: at 98.18% examples, 274445 words/s, in_qsize 5, out_qsize 0\n",
      "2023-03-19 13:33:09,244 : INFO : EPOCH 3: training on 5844680 raw words (4269023 effective words) took 15.6s, 273766 effective words/s\n",
      "2023-03-19 13:33:10,265 : INFO : EPOCH 4 - PROGRESS: at 5.54% examples, 238810 words/s, in_qsize 5, out_qsize 0\n",
      "2023-03-19 13:33:11,300 : INFO : EPOCH 4 - PROGRESS: at 11.56% examples, 243585 words/s, in_qsize 5, out_qsize 0\n",
      "2023-03-19 13:33:12,356 : INFO : EPOCH 4 - PROGRESS: at 17.90% examples, 248060 words/s, in_qsize 5, out_qsize 0\n",
      "2023-03-19 13:33:13,393 : INFO : EPOCH 4 - PROGRESS: at 24.50% examples, 253214 words/s, in_qsize 5, out_qsize 0\n",
      "2023-03-19 13:33:14,477 : INFO : EPOCH 4 - PROGRESS: at 31.13% examples, 255572 words/s, in_qsize 5, out_qsize 0\n",
      "2023-03-19 13:33:15,482 : INFO : EPOCH 4 - PROGRESS: at 36.36% examples, 251040 words/s, in_qsize 5, out_qsize 0\n",
      "2023-03-19 13:33:16,502 : INFO : EPOCH 4 - PROGRESS: at 42.35% examples, 250347 words/s, in_qsize 5, out_qsize 0\n",
      "2023-03-19 13:33:17,526 : INFO : EPOCH 4 - PROGRESS: at 48.66% examples, 253088 words/s, in_qsize 5, out_qsize 0\n",
      "2023-03-19 13:33:18,527 : INFO : EPOCH 4 - PROGRESS: at 55.28% examples, 255939 words/s, in_qsize 5, out_qsize 0\n",
      "2023-03-19 13:33:19,531 : INFO : EPOCH 4 - PROGRESS: at 61.60% examples, 257394 words/s, in_qsize 5, out_qsize 0\n",
      "2023-03-19 13:33:20,540 : INFO : EPOCH 4 - PROGRESS: at 68.37% examples, 259284 words/s, in_qsize 5, out_qsize 0\n",
      "2023-03-19 13:33:21,581 : INFO : EPOCH 4 - PROGRESS: at 75.35% examples, 260827 words/s, in_qsize 5, out_qsize 0\n",
      "2023-03-19 13:33:22,623 : INFO : EPOCH 4 - PROGRESS: at 82.08% examples, 261671 words/s, in_qsize 5, out_qsize 0\n",
      "2023-03-19 13:33:23,651 : INFO : EPOCH 4 - PROGRESS: at 88.55% examples, 262607 words/s, in_qsize 5, out_qsize 0\n",
      "2023-03-19 13:33:24,658 : INFO : EPOCH 4 - PROGRESS: at 95.14% examples, 263691 words/s, in_qsize 5, out_qsize 0\n",
      "2023-03-19 13:33:25,376 : INFO : EPOCH 4: training on 5844680 raw words (4268720 effective words) took 16.1s, 264677 effective words/s\n",
      "2023-03-19 13:33:25,377 : INFO : Word2Vec lifecycle event {'msg': 'training on 29223400 raw words (21343432 effective words) took 80.0s, 266686 effective words/s', 'datetime': '2023-03-19T13:33:25.377048', 'gensim': '4.3.1', 'python': '3.11.0 (main, Oct 24 2022, 18:26:48) [MSC v.1933 64 bit (AMD64)]', 'platform': 'Windows-10-10.0.19045-SP0', 'event': 'train'}\n",
      "2023-03-19 13:33:25,377 : INFO : Word2Vec lifecycle event {'params': 'Word2Vec<vocab=49345, vector_size=100, alpha=0.025>', 'datetime': '2023-03-19T13:33:25.377048', 'gensim': '4.3.1', 'python': '3.11.0 (main, Oct 24 2022, 18:26:48) [MSC v.1933 64 bit (AMD64)]', 'platform': 'Windows-10-10.0.19045-SP0', 'event': 'created'}\n"
     ]
    }
   ],
   "source": [
    "import gensim\n",
    "import logging\n",
    "logging.basicConfig(format='%(asctime)s : %(levelname)s : %(message)s', level=logging.INFO)\n",
    "\n",
    "text = [t.split() for t,p in train]\n",
    "\n",
    "# the following configuration is the default configuration\n",
    "w2v = gensim.models.word2vec.Word2Vec(sentences=text,\n",
    "                                vector_size=100, window=5,               ### here we train a cbow model \n",
    "                                min_count=5,                      \n",
    "                                sample=0.001, workers=3,\n",
    "                                sg=1, hs=0, negative=5,        ### set sg to 1 to train a sg model\n",
    "                                cbow_mean=1, epochs=5)"
   ]
  },
  {
   "cell_type": "code",
   "execution_count": 9,
   "metadata": {},
   "outputs": [
    {
     "name": "stderr",
     "output_type": "stream",
     "text": [
      "2023-03-18 18:10:18,128 : INFO : Word2Vec lifecycle event {'fname_or_handle': 'W2v-movies.dat', 'separately': 'None', 'sep_limit': 10485760, 'ignore': frozenset(), 'datetime': '2023-03-18T18:10:18.128194', 'gensim': '4.3.1', 'python': '3.11.0 (main, Oct 24 2022, 18:26:48) [MSC v.1933 64 bit (AMD64)]', 'platform': 'Windows-10-10.0.19045-SP0', 'event': 'saving'}\n",
      "2023-03-18 18:10:18,129 : INFO : not storing attribute cum_table\n",
      "2023-03-18 18:10:18,541 : INFO : saved W2v-movies.dat\n"
     ]
    }
   ],
   "source": [
    "# Worth it to save the previous embedding\n",
    "w2v.save(\"W2v-movies.dat\")\n",
    "# You will be able to reload them:\n",
    "# w2v = gensim.models.Word2Vec.load(\"W2v-movies.dat\")\n",
    "# and you can continue the learning process if needed"
   ]
  },
  {
   "cell_type": "markdown",
   "metadata": {},
   "source": [
    "## STEP 2: Test learnt embeddings\n",
    "\n",
    "The word embedding space directly encodes similarities between words: the vector coding for the word \"great\" will be closer to the vector coding for \"good\" than to the one coding for \"bad\". Generally, [cosine similarity](https://en.wikipedia.org/wiki/Cosine_similarity) is the distance used when considering distance between vectors.\n",
    "\n",
    "KeyedVectors have a built in [similarity](https://radimrehurek.com/gensim/models /keyedvectors.html#gensim.models.keyedvectors.BaseKeyedVectors.similarity) method to compute the cosine similarity between words"
   ]
  },
  {
   "cell_type": "code",
   "execution_count": 10,
   "metadata": {},
   "outputs": [
    {
     "name": "stdout",
     "output_type": "stream",
     "text": [
      "great and good: 0.76896423\n",
      "great and bad: 0.46418405\n"
     ]
    }
   ],
   "source": [
    "# is great really closer to good than to bad ?\n",
    "print(\"great and good:\",w2v.wv.similarity(\"great\",\"good\"))\n",
    "print(\"great and bad:\",w2v.wv.similarity(\"great\",\"bad\"))"
   ]
  },
  {
   "cell_type": "markdown",
   "metadata": {},
   "source": [
    "Since cosine distance encodes similarity, neighboring words are supposed to be similar. The [most_similar](https://radimrehurek.com/gensim/models/keyedvectors.html#gensim.models.keyedvectors.BaseKeyedVectors.most_similar) method returns the `topn` words given a query."
   ]
  },
  {
   "cell_type": "code",
   "execution_count": 11,
   "metadata": {},
   "outputs": [
    {
     "data": {
      "text/plain": [
       "[('film', 0.9401601552963257),\n",
       " ('\"film\"', 0.8285843133926392),\n",
       " ('\"movie\"', 0.7925335764884949),\n",
       " ('programme', 0.7681950926780701),\n",
       " ('movie,', 0.7639946937561035)]"
      ]
     },
     "execution_count": 11,
     "metadata": {},
     "output_type": "execute_result"
    }
   ],
   "source": [
    "# The query can be as simple as a word, such as \"movie\"\n",
    "\n",
    "# Try changing the word\n",
    "w2v.wv.most_similar(\"movie\",topn=5) # 5 most similar words\n",
    "#w2v.wv.most_similar(\"awesome\",topn=5)\n",
    "#w2v.wv.most_similar(\"actor\",topn=5)"
   ]
  },
  {
   "cell_type": "markdown",
   "metadata": {},
   "source": [
    "But it can be a more complicated query\n",
    "Word embedding spaces tend to encode much more.\n",
    "\n",
    "The most famous exemple is: `vec(king) - vec(man) + vec(woman) => vec(queen)`"
   ]
  },
  {
   "cell_type": "code",
   "execution_count": 12,
   "metadata": {},
   "outputs": [
    {
     "data": {
      "text/plain": [
       "[('actress', 0.8198764324188232),\n",
       " ('actress,', 0.7319310307502747),\n",
       " ('actress.', 0.6946509480476379)]"
      ]
     },
     "execution_count": 12,
     "metadata": {},
     "output_type": "execute_result"
    }
   ],
   "source": [
    "# What is awesome - good + bad ?\n",
    "w2v.wv.most_similar(positive=[\"awesome\",\"bad\"],negative=[\"good\"],topn=3)  \n",
    "\n",
    "w2v.wv.most_similar(positive=[\"actor\",\"woman\"],negative=[\"man\"],topn=3) # do the famous exemple works for actor ?\n",
    "\n",
    "\n",
    "# Try other things like plurals for exemple."
   ]
  },
  {
   "cell_type": "markdown",
   "metadata": {},
   "source": [
    "To test learnt \"synctactic\" and \"semantic\" similarities, Mikolov et al. introduced a special dataset containing a wide variety of three way similarities."
   ]
  },
  {
   "cell_type": "code",
   "execution_count": 13,
   "metadata": {},
   "outputs": [
    {
     "name": "stderr",
     "output_type": "stream",
     "text": [
      "2023-03-18 18:11:33,875 : INFO : Evaluating word analogies for top 300000 words in the model on questions-words.txt\n",
      "2023-03-18 18:11:34,628 : INFO : capital-common-countries: 1.3% (2/156)\n",
      "2023-03-18 18:11:34,969 : INFO : capital-world: 1.8% (2/111)\n",
      "2023-03-18 18:11:35,030 : INFO : currency: 0.0% (0/18)\n",
      "2023-03-18 18:11:35,909 : INFO : city-in-state: 0.0% (0/301)\n",
      "2023-03-18 18:11:37,064 : INFO : family: 31.9% (134/420)\n",
      "2023-03-18 18:11:39,285 : INFO : gram1-adjective-to-adverb: 2.0% (17/870)\n",
      "2023-03-18 18:11:40,665 : INFO : gram2-opposite: 3.3% (18/552)\n",
      "2023-03-18 18:11:44,485 : INFO : gram3-comparative: 17.9% (213/1190)\n",
      "2023-03-18 18:11:46,561 : INFO : gram4-superlative: 9.4% (71/756)\n",
      "2023-03-18 18:11:48,656 : INFO : gram5-present-participle: 19.3% (157/812)\n",
      "2023-03-18 18:11:51,200 : INFO : gram6-nationality-adjective: 1.2% (12/967)\n",
      "2023-03-18 18:11:54,639 : INFO : gram7-past-tense: 21.3% (268/1260)\n",
      "2023-03-18 18:11:56,830 : INFO : gram8-plural: 6.9% (56/812)\n",
      "2023-03-18 18:11:58,679 : INFO : gram9-plural-verbs: 27.4% (178/650)\n",
      "2023-03-18 18:11:58,680 : INFO : Quadruplets with out-of-vocabulary words: 54.6%\n",
      "2023-03-18 18:11:58,681 : INFO : NB: analogies containing OOV words were skipped from evaluation! To change this behavior, use \"dummy4unknown=True\"\n",
      "2023-03-18 18:11:58,681 : INFO : Total accuracy: 12.7% (1128/8875)\n"
     ]
    }
   ],
   "source": [
    "out = w2v.wv.evaluate_word_analogies(\"questions-words.txt\",case_insensitive=True)  #original semantic syntactic dataset."
   ]
  },
  {
   "cell_type": "markdown",
   "metadata": {},
   "source": [
    "**When training the w2v models on the review dataset, since it hasn't been learnt with a lot of data, it does not perform very well.**\n"
   ]
  },
  {
   "cell_type": "markdown",
   "metadata": {},
   "source": [
    "## STEP 3: Loading a pre-trained model"
   ]
  },
  {
   "cell_type": "markdown",
   "metadata": {},
   "source": [
    "In Gensim, embeddings are loaded and can be used via the [\"KeyedVectors\"](https://radimrehurek.com/gensim/models/keyedvectors.html) class\n",
    "\n",
    "> Since trained word vectors are independent from the way they were trained (Word2Vec, FastText, WordRank, VarEmbed etc), they can be represented by a standalone structure, as implemented in this module.\n",
    "\n",
    ">The structure is called “KeyedVectors” and is essentially a mapping between entities and vectors. Each entity is identified by its string id, so this is a mapping between {str => 1D numpy array}.\n",
    "\n",
    ">The entity typically corresponds to a word (so the mapping maps words to 1D vectors), but for some models, they key can also correspond to a document, a graph node etc. To generalize over different use-cases, this module calls the keys entities. Each entity is always represented by its string id, no matter whether the entity is a word, a document or a graph node."
   ]
  },
  {
   "cell_type": "code",
   "execution_count": null,
   "metadata": {
    "scrolled": true
   },
   "outputs": [],
   "source": [
    "from gensim.test.utils import get_tmpfile\n",
    "import gensim.downloader as api\n",
    "bload = True\n",
    "fname = \"word2vec-google-news-300\"\n",
    "sdir = \"\"\n",
    "\n",
    "if(bload==True):\n",
    "    wv_pre_trained = gensim.models.KeyedVectors.load(sdir+fname+\".dat\")\n",
    "else:    \n",
    "    wv_pre_trained = api.load(fname)\n",
    "    wv_pre_trained.save(sdir+fname+\".dat\")\n",
    "\n",
    "out = wv_pre_trained.evaluate_word_analogies(\"questions-words.txt\",case_insensitive=True)  #original semantic syntactic dataset.\n",
    "\n",
    "# It performs much better than not pre-trained model because this model has been pre-trained with a lot of data. We find an accuracy of 74%.\n",
    "print(wv_pre_trained, \"\\n\\n\", out)\n"
   ]
  },
  {
   "cell_type": "markdown",
   "metadata": {},
   "source": [
    "**Perform the \"synctactic\" and \"semantic\" evaluations again. Conclude on the pre-trained embeddings.**"
   ]
  },
  {
   "cell_type": "markdown",
   "metadata": {},
   "source": [
    "## STEP 4:  sentiment classification\n",
    "\n",
    "In the previous practical session, we used a bag of word approach to transform text into vectors.\n",
    "Here, we propose to try to use word vectors (previously learnt or loaded).\n",
    "\n",
    "\n",
    "### <font color='green'> Since we have only word vectors and that sentences are made of multiple words, we need to aggregate them. </font>\n",
    "\n",
    "\n",
    "### (1) Vectorize reviews using word vectors:\n",
    "\n",
    "Word aggregation can be done in different ways:\n",
    "\n",
    "- Sum\n",
    "- Average\n",
    "- Min/feature\n",
    "- Max/feature\n",
    "\n",
    "#### a few pointers:\n",
    "\n",
    "- `w2v.wv.vocab` is a `set()` of the vocabulary (all existing words in your model)\n",
    "- `np.minimum(a,b) and np.maximum(a,b)` respectively return element-wise min/max "
   ]
  },
  {
   "cell_type": "code",
   "execution_count": 6,
   "metadata": {},
   "outputs": [
    {
     "name": "stdout",
     "output_type": "stream",
     "text": [
      "[-0.07262014  0.17286564 -0.07118223  0.001789    0.01288627 -0.23364043\n",
      "  0.13452812  0.41324234 -0.30692497 -0.139145   -0.03348449 -0.33013242\n",
      "  0.00138811  0.09071711  0.06381789 -0.15111387  0.16269377 -0.12357354\n",
      " -0.05258307 -0.3644595   0.13033417  0.08568899  0.08963778 -0.1406589\n",
      "  0.01863531 -0.03317967 -0.28280744 -0.00393722 -0.1345734   0.19159377\n",
      "  0.2949677  -0.13948822  0.0833481  -0.34438506  0.01773646  0.19819117\n",
      " -0.03365245  0.19119875 -0.09158282 -0.13051619  0.14398322 -0.09799657\n",
      " -0.07274494  0.05602719  0.10379355  0.00375845 -0.11315077 -0.14127155\n",
      "  0.22803544  0.17338903  0.08904986 -0.35945016 -0.05061587  0.01823387\n",
      " -0.08273222  0.09224615  0.07339675 -0.02819855 -0.27725074  0.02276383\n",
      " -0.01606501 -0.08772795  0.24104749  0.05665727 -0.17684427  0.24432835\n",
      " -0.00482281  0.13183242 -0.31785557  0.08800955  0.01735726  0.1341805\n",
      "  0.19851846  0.01587687  0.1447176  -0.02213734  0.07950871 -0.07664558\n",
      " -0.08680249  0.06741351 -0.24302265 -0.08241361 -0.21187985  0.24048376\n",
      "  0.00087577 -0.20311658  0.0916049   0.10447415  0.25593522  0.17621243\n",
      "  0.3579325   0.06834931  0.08668746 -0.04163948  0.24999103  0.04525468\n",
      "  0.07892071 -0.19501808 -0.03265572 -0.08354662]\n"
     ]
    }
   ],
   "source": [
    "import numpy as np\n",
    "# We first need to vectorize text:\n",
    "# First we propose to a sum of them\n",
    "\n",
    "\n",
    "def vectorize(text,mean=False):\n",
    "    \"\"\"\n",
    "    This function should vectorize one review\n",
    "\n",
    "    input: str\n",
    "    output: np.array(float)\n",
    "    \"\"\"    \n",
    "    vec = []\n",
    "    for word in text.split():\n",
    "        try:\n",
    "            vec.append(w2v.wv[word])\n",
    "        except KeyError:\n",
    "            continue\n",
    "    return np.mean(np.array(vec), axis=0)\n",
    "\n",
    "\n",
    "classes = [pol for text,pol in train]\n",
    "X = [vectorize(text) for text,pol in train]\n",
    "X_test = [vectorize(text) for text,pol in test]\n",
    "true = [pol for text,pol in test]\n",
    "\n",
    "#let's see what a review vector looks like.\n",
    "print(X[0])"
   ]
  },
  {
   "cell_type": "markdown",
   "metadata": {},
   "source": [
    "### (2) Train a classifier \n",
    "as in the previous practical session, train a logistic regression to do sentiment classification with word vectors\n",
    "\n"
   ]
  },
  {
   "cell_type": "code",
   "execution_count": 22,
   "metadata": {},
   "outputs": [
    {
     "name": "stdout",
     "output_type": "stream",
     "text": [
      "0.82048\n"
     ]
    }
   ],
   "source": [
    "from sklearn.linear_model import LogisticRegression\n",
    "from sklearn.metrics import accuracy_score\n",
    "\n",
    "# Scikit Logistic Regression\n",
    "    \n",
    "lr = LogisticRegression(random_state=0)\n",
    "lr.fit(X, classes)\n",
    "print(lr.score(X_test, true))\n"
   ]
  },
  {
   "cell_type": "markdown",
   "metadata": {},
   "source": [
    "performance should be worst than with bag of word (~80%). Sum/Mean aggregation does not work well on long reviews (especially with many frequent words). This adds a lot of noise.\n",
    "\n",
    "## **Todo** :  Try answering the following questions:\n",
    "\n",
    "- Which word2vec model works best: skip-gram or cbow\n",
    "- Do pretrained vectors work best than those learnt on the train dataset ?\n"
   ]
  },
  {
   "cell_type": "markdown",
   "metadata": {},
   "source": [
    "\n",
    "**(Bonus)** To have a better accuracy, we could try two things:\n",
    "- Better aggregation methods (weight by tf-idf ?)\n",
    "- Another word vectorizing method such as [fasttext](https://radimrehurek.com/gensim/models/fasttext.html)\n",
    "- A document vectorizing method such as [Doc2Vec](https://radimrehurek.com/gensim/models/doc2vec.html)"
   ]
  }
 ],
 "metadata": {
  "kernelspec": {
   "display_name": "Python 3",
   "language": "python",
   "name": "python3"
  },
  "language_info": {
   "codemirror_mode": {
    "name": "ipython",
    "version": 3
   },
   "file_extension": ".py",
   "mimetype": "text/x-python",
   "name": "python",
   "nbconvert_exporter": "python",
   "pygments_lexer": "ipython3",
   "version": "3.11.0"
  },
  "vscode": {
   "interpreter": {
    "hash": "902a52bcf4503a473db011f1937bdfe17613b08622219712e0110e48c4958c23"
   }
  }
 },
 "nbformat": 4,
 "nbformat_minor": 4
}
