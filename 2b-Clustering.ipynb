{
 "cells": [
  {
   "cell_type": "markdown",
   "metadata": {},
   "source": [
    "# Data mining \\& clustering\n",
    "\n",
    "The goal if this practical is to adress the folowing problem: \n",
    "<center style=\"color:red\" >  Given XXX raw, unlabeled documents, ... How to exploit/understand/represent them?</center>\n",
    "\n",
    "In the previous week, we have seen how to represent textual data with the Bag of Words (BoW) model:\n",
    "$$X = \n",
    "\t\\begin{matrix} \n",
    "\t & \\textbf{t}_j \\\\\n",
    "\t & \\downarrow \\\\\n",
    "\t\\textbf{d}_i \\rightarrow &\n",
    "\t\\begin{pmatrix} \n",
    "\tx_{1,1} & \\dots & x_{1,d} \\\\\n",
    "\t\\vdots & \\ddots & \\vdots \\\\\n",
    "\tx_{N,1} & \\dots & x_{N,d} \\\\\n",
    "\t\\end{pmatrix}\n",
    "\t\\end{matrix}\n",
    "\t$$\n",
    "\n",
    "From this BoW representation, we want to answer the following questions:\n",
    "1. Which clustering algorithm to choose?\n",
    "    - K-means, LSA, pLSA, LDA\n",
    "1. What results to expect?\n",
    "    - Semantics, noise cleaning, etc...\n",
    "1. Which qualitative and quantitative analyses to understand the groups?\n",
    "[comment]: <> (%1. Comment boucler, itérer pour améliorer la qualité du processus?)\n",
    "\n",
    "\n",
    "<span style=\"color:magenta\" > In this practical, we use a **labeled dataset** in order to evaluate performances with quantitative and well-defined metrics. </span>\n"
   ]
  },
  {
   "cell_type": "code",
   "execution_count": 1,
   "metadata": {},
   "outputs": [],
   "source": [
    "import numpy as np\n",
    "import matplotlib.pyplot as plt\n",
    "\n",
    "import codecs\n",
    "import re\n",
    "import os.path\n",
    "import sklearn\n"
   ]
  },
  {
   "cell_type": "markdown",
   "metadata": {},
   "source": [
    "## Data loading\n",
    "\n"
   ]
  },
  {
   "cell_type": "code",
   "execution_count": 2,
   "metadata": {},
   "outputs": [],
   "source": [
    "from sklearn.datasets import fetch_20newsgroups\n",
    "newsgroups_train = fetch_20newsgroups(subset='train')"
   ]
  },
  {
   "cell_type": "code",
   "execution_count": 3,
   "metadata": {},
   "outputs": [
    {
     "name": "stdout",
     "output_type": "stream",
     "text": [
      "(11314, 1000)\n",
      "44.164928407283014\n"
     ]
    }
   ],
   "source": [
    "# conversion BoW + tf-idf\n",
    "from sklearn.feature_extraction.text import TfidfVectorizer\n",
    "#vectorizer = TfidfVectorizer() \n",
    "vectorizer = TfidfVectorizer(max_df=0.95, min_df=2, max_features=1000, stop_words='english')\n",
    "\n",
    "vectors = vectorizer.fit_transform(newsgroups_train.data)\n",
    "print(vectors.shape)\n",
    "\n",
    "# sparsity measure = 44 active words over 1000 per document (157 over 130000) !!\n",
    "print(vectors.nnz / float(vectors.shape[0]))"
   ]
  },
  {
   "cell_type": "code",
   "execution_count": 4,
   "metadata": {},
   "outputs": [
    {
     "name": "stdout",
     "output_type": "stream",
     "text": [
      "[(905, 'title'), (155, 'best'), (361, 'especially'), (96, 'ai'), (644, 'normal'), (344, 'easy'), (373, 'fact'), (770, 'return'), (79, 'able'), (819, 'set')]\n"
     ]
    }
   ],
   "source": [
    "# retrieve words\n",
    "print([(i,vectorizer.get_feature_names_out()[i]) \\\n",
    "       for i in np.random.randint(vectors.shape[1], size=10)])"
   ]
  },
  {
   "cell_type": "code",
   "execution_count": 5,
   "metadata": {},
   "outputs": [
    {
     "name": "stdout",
     "output_type": "stream",
     "text": [
      "[ 7  4  4  1 14 16 13  3  2  4]\n",
      "['rec.autos', 'comp.sys.mac.hardware', 'comp.sys.mac.hardware', 'comp.graphics', 'sci.space', 'talk.politics.guns', 'sci.med', 'comp.sys.ibm.pc.hardware', 'comp.os.ms-windows.misc', 'comp.sys.mac.hardware', 'rec.motorcycles', 'talk.religion.misc', 'comp.sys.mac.hardware', 'sci.space', 'misc.forsale', 'alt.atheism', 'comp.graphics', 'rec.autos', 'sci.electronics', 'comp.windows.x']\n"
     ]
    }
   ],
   "source": [
    "# labels (only for evaluation)\n",
    "Y = newsgroups_train.target\n",
    "print(Y[:10]) \n",
    "print([newsgroups_train.target_names[i] for i in Y[:20]]) # vraie classe"
   ]
  },
  {
   "cell_type": "markdown",
   "metadata": {},
   "source": [
    "# 0) Word clouds \n",
    "### Drawing word clouds from the raw corpus or words' frequencies :  [make word clouds !](https://github.com/amueller/word_cloud)\n",
    "\n",
    "### Installation\n",
    "If you are using pip:\n",
    "\n",
    "`pip install wordcloud`\n",
    "\n",
    "### If you are using conda, you can install from the conda-forge channel:\n",
    "\n",
    "`conda install -c conda-forge wordcloud`"
   ]
  },
  {
   "cell_type": "markdown",
   "metadata": {},
   "source": [
    "### Let's look at the most frequent words in this dataset"
   ]
  },
  {
   "cell_type": "code",
   "execution_count": 6,
   "metadata": {},
   "outputs": [
    {
     "name": "stdout",
     "output_type": "stream",
     "text": [
      "Nb mots= 3252437\n",
      "[('the', 127670), ('to', 69836), ('of', 66705), ('a', 56148), ('and', 52580), ('is', 39554), ('in', 37787), ('I', 37616), ('that', 34582), ('>', 27843), ('for', 25707), ('you', 19874), ('it', 19698), ('be', 18364), ('on', 18201), ('have', 17292), ('are', 17260), ('with', 16179), ('not', 15434), ('The', 14079), ('this', 13611), ('as', 13373), ('or', 12497), ('was', 12426), ('Subject:', 11642), ('From:', 11536), ('Lines:', 11328), ('Organization:', 10881), ('by', 10279), ('but', 10265), ('|', 10072), ('from', 9859), ('at', 9807), ('-', 9662), ('they', 9591), ('an', 9393), ('will', 8584), ('can', 8493), ('would', 8381), ('In', 7904), ('if', 7792), ('about', 7768), ('Re:', 7747), ('my', 7679), ('--', 7639), ('writes:', 7505), ('your', 6972), ('has', 6969), ('do', 6930), ('all', 6745), ('one', 6576), ('|>', 6521), ('article', 6402), ('what', 6183), ('we', 6047), ('there', 5798), ('any', 5759), ('who', 5734), ('some', 5682), ('he', 5343), ('which', 5303), ('their', 5178), ('were', 5160), ('like', 5156), ('out', 5087), ('more', 5007), (\"don't\", 4937), ('no', 4935), ('X', 4820), ('so', 4811), ('me', 4791), ('If', 4722), (':', 4710), ('just', 4669), ('get', 4656), ('people', 4635), ('than', 4595), ('other', 4568), ('University', 4511), ('had', 4465), ('been', 4414), ('It', 4393), ('only', 4334), ('know', 4248), ('when', 4233), ('up', 4148), ('>>', 4140), ('*', 4094), ('think', 4002), ('This', 3937), ('his', 3838), ('use', 3644), ('1', 3345), ('should', 3329), (\"MAX>'AX>'AX>'AX>'AX>'AX>'AX>'AX>'AX>'AX>'AX>'AX>'AX>'AX>'AX>'\", 3289), ('how', 3271), (\"I'm\", 3253), ('them', 3222), ('also', 3216), ('then', 3044), ('could', 3035), ('into', 2978), ('am', 2977), ('because', 2941), ('does', 2892), ('A', 2886), ('very', 2807), ('these', 2780), ('good', 2749), ('may', 2716), ('even', 2712), ('make', 2627), ('those', 2601), ('Distribution:', 2559), ('2', 2467), ('Nntp-Posting-Host:', 2458), ('much', 2455), ('You', 2454), ('two', 2445), ('many', 2437), (\"it's\", 2432), ('time', 2419), ('And', 2397), ('see', 2391), ('such', 2359), ('What', 2334), ('it.', 2331), ('NNTP-Posting-Host:', 2319), ('most', 2300), ('want', 2288), ('new', 2228), ('our', 2222), ('its', 2218), ('being', 2216), ('But', 2183), ('They', 2164), ('same', 2153), ('where', 2129), ('need', 2116), ('over', 2102), ('used', 2100), ('first', 2078), ('way', 2075), ('0', 2068), ('say', 2026), ('anyone', 1949), ('going', 1900), ('.', 1897), ('really', 1874), ('There', 1866), ('He', 1861), ('something', 1844), ('did', 1835), ('still', 1792), ('find', 1779), ('believe', 1775), ('right', 1758), ('Reply-To:', 1734), ('after', 1705), ('using', 1696), ('take', 1696), ('said', 1685), ('why', 1683), (\"I've\", 1669), ('must', 1663), ('might', 1660), ('go', 1655), ('world', 1623), ('We', 1584), (\"can't\", 1575), ('&', 1574), ('=', 1573), ('For', 1563), ('work', 1560), ('3', 1553), ('back', 1550), ('got', 1543), ('last', 1532), ('never', 1519), ('us', 1496), ('system', 1494), ('Is', 1493), ('since', 1486), ('through', 1486), ('/', 1456), ('How', 1454), ('own', 1450), ('without', 1448), ('4', 1436), ('between', 1423), ('problem', 1422), ('My', 1416), ('off', 1402), ('few', 1395), ('too', 1391), ('under', 1389), ('before', 1380), ('God', 1380), ('made', 1375), ('now', 1370)]\n"
     ]
    }
   ],
   "source": [
    "data = np.array(newsgroups_train.data)\n",
    "corpus = \"\".join(data)\n",
    "words = corpus.split() # optional args to choose the splitting chars\n",
    "print(\"Nb mots=\",len(words))\n",
    "\n",
    "from collections import Counter\n",
    "\n",
    "counter = Counter(words)\n",
    "print(counter.most_common(200))"
   ]
  },
  {
   "cell_type": "markdown",
   "metadata": {},
   "source": [
    "### Plot the N frequent words and verify that its follows a Zipf law"
   ]
  },
  {
   "cell_type": "code",
   "execution_count": 7,
   "metadata": {},
   "outputs": [
    {
     "data": {
      "image/png": "[encoded data removed]",
      "text/plain": [
       "<Figure size 640x480 with 1 Axes>"
      ]
     },
     "metadata": {},
     "output_type": "display_data"
    }
   ],
   "source": [
    "from collections import Counter, OrderedDict\n",
    "\n",
    "def n_most_freq(N, words):\n",
    "    counter = Counter(words)\n",
    "    mc = OrderedDict(counter.most_common(N))\n",
    "    plt.bar(mc.keys(), mc.values())\n",
    "    \n",
    "\n",
    "n_most_freq(100, words)"
   ]
  },
  {
   "cell_type": "markdown",
   "metadata": {},
   "source": [
    "### Experiment word clouds"
   ]
  },
  {
   "cell_type": "code",
   "execution_count": 16,
   "metadata": {},
   "outputs": [
    {
     "name": "stderr",
     "output_type": "stream",
     "text": [
      "'import' n'est pas reconnu en tant que commande interne\n",
      "ou externe, un programme ex�cutable ou un fichier de commandes.\n"
     ]
    },
    {
     "ename": "NameError",
     "evalue": "name 'WordCloud' is not defined",
     "output_type": "error",
     "traceback": [
      "\u001b[1;31m---------------------------------------------------------------------------\u001b[0m",
      "\u001b[1;31mNameError\u001b[0m                                 Traceback (most recent call last)",
      "Cell \u001b[1;32mIn[16], line 3\u001b[0m\n\u001b[0;32m      1\u001b[0m get_ipython()\u001b[39m.\u001b[39msystem(\u001b[39m'\u001b[39m\u001b[39m import wordcloud\u001b[39m\u001b[39m'\u001b[39m)\n\u001b[1;32m----> 3\u001b[0m wordcloud \u001b[39m=\u001b[39m WordCloud(background_color\u001b[39m=\u001b[39m\u001b[39m'\u001b[39m\u001b[39mwhite\u001b[39m\u001b[39m'\u001b[39m, stopwords \u001b[39m=\u001b[39m [], max_words\u001b[39m=\u001b[39m\u001b[39m100\u001b[39m)\u001b[39m.\u001b[39mgenerate(corpus)            \n\u001b[0;32m      5\u001b[0m plt\u001b[39m.\u001b[39mfigure()\n\u001b[0;32m      6\u001b[0m plt\u001b[39m.\u001b[39mimshow(wordcloud)\n",
      "\u001b[1;31mNameError\u001b[0m: name 'WordCloud' is not defined"
     ]
    }
   ],
   "source": [
    "import wordcloud as wc\n",
    "wordcloud = wc.WordCloud(background_color='white', stopwords = [], max_words=100).generate(corpus)            \n",
    "\n",
    "plt.figure()\n",
    "plt.imshow(wordcloud)\n",
    "plt.axis('off')"
   ]
  },
  {
   "cell_type": "code",
   "execution_count": 17,
   "metadata": {},
   "outputs": [
    {
     "ename": "ModuleNotFoundError",
     "evalue": "No module named 'wordcloud'",
     "output_type": "error",
     "traceback": [
      "\u001b[1;31m---------------------------------------------------------------------------\u001b[0m",
      "\u001b[1;31mModuleNotFoundError\u001b[0m                       Traceback (most recent call last)",
      "Cell \u001b[1;32mIn[17], line 1\u001b[0m\n\u001b[1;32m----> 1\u001b[0m \u001b[39mfrom\u001b[39;00m \u001b[39mwordcloud\u001b[39;00m \u001b[39mimport\u001b[39;00m STOPWORDS \u001b[39m# Note: this is the default option           \u001b[39;00m\n\u001b[0;32m      2\u001b[0m wordcloud \u001b[39m=\u001b[39m wc\u001b[39m.\u001b[39mWordCloud(background_color\u001b[39m=\u001b[39m\u001b[39m'\u001b[39m\u001b[39mwhite\u001b[39m\u001b[39m'\u001b[39m, stopwords \u001b[39m=\u001b[39m STOPWORDS, max_words\u001b[39m=\u001b[39m\u001b[39m100\u001b[39m)\u001b[39m.\u001b[39mgenerate(corpus) \n\u001b[0;32m      4\u001b[0m plt\u001b[39m.\u001b[39mfigure()\n",
      "\u001b[1;31mModuleNotFoundError\u001b[0m: No module named 'wordcloud'"
     ]
    }
   ],
   "source": [
    "from wordcloud import STOPWORDS # Note: this is the default option           \n",
    "wordcloud = wc.WordCloud(background_color='white', stopwords = STOPWORDS, max_words=100).generate(corpus) \n",
    "\n",
    "plt.figure()\n",
    "plt.imshow(wordcloud)\n",
    "plt.axis(\"off\")"
   ]
  },
  {
   "cell_type": "markdown",
   "metadata": {},
   "source": [
    "### Use word clouds with generate\\_from\\_frequencies. \n",
    "N.B.: retrieve the most words frequencies using a CountVectorizer"
   ]
  },
  {
   "cell_type": "code",
   "execution_count": null,
   "metadata": {},
   "outputs": [],
   "source": [
    "wordcloud = wc.WordCloud(background_color='white', stopwords = STOPWORDS, max_words=100).generate_from_frequencies(frequencies=freq_dict)\n",
    "\n",
    "plt.figure()\n",
    "plt.imshow(wordcloud)\n",
    "plt.axis(\"off\")"
   ]
  },
  {
   "cell_type": "code",
   "execution_count": 24,
   "metadata": {},
   "outputs": [
    {
     "ename": "MemoryError",
     "evalue": "Unable to allocate 24.2 GiB for an array with shape (3252437, 1000) and data type int64",
     "output_type": "error",
     "traceback": [
      "\u001b[1;31m---------------------------------------------------------------------------\u001b[0m",
      "\u001b[1;31mMemoryError\u001b[0m                               Traceback (most recent call last)",
      "Cell \u001b[1;32mIn[24], line 6\u001b[0m\n\u001b[0;32m      4\u001b[0m vectors \u001b[39m=\u001b[39m vectorizer\u001b[39m.\u001b[39mfit_transform(words)\n\u001b[0;32m      5\u001b[0m names \u001b[39m=\u001b[39m vectorizer\u001b[39m.\u001b[39mget_feature_names_out()\n\u001b[1;32m----> 6\u001b[0m freq \u001b[39m=\u001b[39m vectors\u001b[39m.\u001b[39;49mtoarray()\u001b[39m.\u001b[39msum(axis\u001b[39m=\u001b[39m\u001b[39m0\u001b[39m)\n\u001b[0;32m      8\u001b[0m dict_countvect \u001b[39m=\u001b[39m \u001b[39mdict\u001b[39m(\u001b[39mzip\u001b[39m(names, freq))\n\u001b[0;32m      9\u001b[0m mc \u001b[39m=\u001b[39m OrderedDict(dict_countvect\u001b[39m.\u001b[39mmost_common(\u001b[39m100\u001b[39m))\n",
      "File \u001b[1;32mc:\\Python\\Python311\\Lib\\site-packages\\scipy\\sparse\\_compressed.py:1051\u001b[0m, in \u001b[0;36m_cs_matrix.toarray\u001b[1;34m(self, order, out)\u001b[0m\n\u001b[0;32m   1049\u001b[0m \u001b[39mif\u001b[39;00m out \u001b[39mis\u001b[39;00m \u001b[39mNone\u001b[39;00m \u001b[39mand\u001b[39;00m order \u001b[39mis\u001b[39;00m \u001b[39mNone\u001b[39;00m:\n\u001b[0;32m   1050\u001b[0m     order \u001b[39m=\u001b[39m \u001b[39mself\u001b[39m\u001b[39m.\u001b[39m_swap(\u001b[39m'\u001b[39m\u001b[39mcf\u001b[39m\u001b[39m'\u001b[39m)[\u001b[39m0\u001b[39m]\n\u001b[1;32m-> 1051\u001b[0m out \u001b[39m=\u001b[39m \u001b[39mself\u001b[39;49m\u001b[39m.\u001b[39;49m_process_toarray_args(order, out)\n\u001b[0;32m   1052\u001b[0m \u001b[39mif\u001b[39;00m \u001b[39mnot\u001b[39;00m (out\u001b[39m.\u001b[39mflags\u001b[39m.\u001b[39mc_contiguous \u001b[39mor\u001b[39;00m out\u001b[39m.\u001b[39mflags\u001b[39m.\u001b[39mf_contiguous):\n\u001b[0;32m   1053\u001b[0m     \u001b[39mraise\u001b[39;00m \u001b[39mValueError\u001b[39;00m(\u001b[39m'\u001b[39m\u001b[39mOutput array must be C or F contiguous\u001b[39m\u001b[39m'\u001b[39m)\n",
      "File \u001b[1;32mc:\\Python\\Python311\\Lib\\site-packages\\scipy\\sparse\\_base.py:1298\u001b[0m, in \u001b[0;36mspmatrix._process_toarray_args\u001b[1;34m(self, order, out)\u001b[0m\n\u001b[0;32m   1296\u001b[0m     \u001b[39mreturn\u001b[39;00m out\n\u001b[0;32m   1297\u001b[0m \u001b[39melse\u001b[39;00m:\n\u001b[1;32m-> 1298\u001b[0m     \u001b[39mreturn\u001b[39;00m np\u001b[39m.\u001b[39;49mzeros(\u001b[39mself\u001b[39;49m\u001b[39m.\u001b[39;49mshape, dtype\u001b[39m=\u001b[39;49m\u001b[39mself\u001b[39;49m\u001b[39m.\u001b[39;49mdtype, order\u001b[39m=\u001b[39;49morder)\n",
      "\u001b[1;31mMemoryError\u001b[0m: Unable to allocate 24.2 GiB for an array with shape (3252437, 1000) and data type int64"
     ]
    }
   ],
   "source": [
    "from sklearn.feature_extraction.text import CountVectorizer\n",
    "\n",
    "vectorizer = CountVectorizer(max_df=0.95, min_df=2, max_features=1000, stop_words='english')\n",
    "vectors = vectorizer.fit_transform(words)\n",
    "names = vectorizer.get_feature_names_out()\n",
    "freq = vectors.toarray().sum(axis=0)\n",
    "\n",
    "dict_countvect = dict(zip(names, freq))\n",
    "mc = OrderedDict(dict_countvect.most_common(100))\n",
    "\n",
    "wordcloud = wc.WordCloud(background_color='white', stopwords = STOPWORDS, max_words=100).generate_from_frequences(mc) \n",
    "\n",
    "plt.figure()\n",
    "plt.imshow(wordcloud)\n",
    "plt.axis(\"off\")"
   ]
  },
  {
   "cell_type": "markdown",
   "metadata": {},
   "source": [
    "### Drawing word clouds from classes\n"
   ]
  },
  {
   "cell_type": "markdown",
   "metadata": {},
   "source": [
    "# 1) Clustering algorithm: K-Means\n",
    "\n",
    "**Let's start by the most famous and simple unsupervised algorithm: $k$-means!**\n",
    "Look at [sklear documentation](https://scikit-learn.org/stable/modules/generated/sklearn.cluster.KMeans.html)\n",
    "and apply it to your BoW matrix.\n"
   ]
  },
  {
   "cell_type": "code",
   "execution_count": 27,
   "metadata": {},
   "outputs": [
    {
     "name": "stderr",
     "output_type": "stream",
     "text": [
      "c:\\Python\\Python311\\Lib\\site-packages\\sklearn\\cluster\\_kmeans.py:870: FutureWarning: The default value of `n_init` will change from 10 to 'auto' in 1.4. Set the value of `n_init` explicitly to suppress the warning\n",
      "  warnings.warn(\n"
     ]
    },
    {
     "data": {
      "text/plain": [
       "array([[0.00481251, 0.00431009, 0.00048919, ..., 0.00481887, 0.01265084,\n",
       "        0.00097928],\n",
       "       [0.00369518, 0.01008388, 0.00139004, ..., 0.01172087, 0.00496925,\n",
       "        0.00488701],\n",
       "       [0.00390038, 0.00431445, 0.0023992 , ..., 0.00616613, 0.00405261,\n",
       "        0.00336554],\n",
       "       ...,\n",
       "       [0.00050777, 0.00514748, 0.00089056, ..., 0.00369742, 0.00111354,\n",
       "        0.        ],\n",
       "       [0.00836867, 0.0035352 , 0.        , ..., 0.00816881, 0.0031431 ,\n",
       "        0.01436739],\n",
       "       [0.0015631 , 0.00515836, 0.00593669, ..., 0.00522794, 0.00822491,\n",
       "        0.00154939]])"
      ]
     },
     "execution_count": 27,
     "metadata": {},
     "output_type": "execute_result"
    }
   ],
   "source": [
    "from sklearn.cluster import KMeans\n",
    "vectorizer = TfidfVectorizer(max_df=0.95, min_df=2, max_features=1000, stop_words='english')\n",
    "vectors = vectorizer.fit_transform(newsgroups_train.data)\n",
    "\n",
    "kmeans = KMeans(n_clusters=20, random_state=0, max_iter=10).fit(vectors)\n",
    "# Getting clusters:\n",
    "cc = kmeans.cluster_centers_\n",
    "print(cc)\n",
    "\n",
    "#idx = cc[2].tolist().index(max(cc[2])) # index du mot le plus fréquent\n",
    "#print(vectorizer.get_feature_names_out()[idx]) # mot correspondant"
   ]
  },
  {
   "cell_type": "markdown",
   "metadata": {},
   "source": [
    "### Clustering Analysis: \n",
    "1. **Qualtitative:**\n",
    "    - Look at the most important words for each cluster\n",
    "    - Perform cluster assignement to each document, and compute word cloud on the document (raw text or frequencies)\n",
    "2. **Quantitative:**\n",
    "    - Compute cluster \"purity\": $p_j= \\frac{|y^*|}{|C_j|}$, where $y^*$ is the most frequent (GT) label in cluster $C$ $\\Rightarrow$ $p = \\sum\\limits_j |C_j| p_j$\n",
    "    - Compute [Rand Score](https://scikit-learn.org/stable/modules/generated/sklearn.metrics.rand_score.html) and [Adjusted Rand Score](https://scikit-learn.org/stable/modules/generated/sklearn.metrics.adjusted_rand_score.html#sklearn.metrics.adjusted_rand_score) "
   ]
  },
  {
   "cell_type": "code",
   "execution_count": 49,
   "metadata": {},
   "outputs": [
    {
     "name": "stdout",
     "output_type": "stream",
     "text": [
      "0.00535743142354942\n",
      "0.0011998670642880203\n",
      "0.0041372214741386415\n",
      "0.006615039434860359\n",
      "0.0025412569713609843\n",
      "0.002396751640923415\n",
      "0.0031542930671866025\n",
      "0.005998052184094985\n",
      "0.007937358224832816\n",
      "0.00630520337241141\n",
      "0.0034724679456351894\n",
      "0.0029587805521572278\n",
      "0.0036088550392008763\n",
      "0.0053273020086190585\n",
      "0.0011444571254507904\n",
      "0.005265111482783939\n",
      "0.004895758226479849\n",
      "0.005692644757901817\n",
      "0.00631058007531575\n",
      "0.006514617326324377\n"
     ]
    }
   ],
   "source": [
    "for j in range(20):\n",
    "    purity = 1/1000 * sum([max(cc[j]) for i in range(len(cc))])\n",
    "    print(purity)"
   ]
  },
  {
   "cell_type": "markdown",
   "metadata": {},
   "source": [
    "# 2) Latent Semantic Analysis (LSA <=> SVD) \n"
   ]
  },
  {
   "cell_type": "markdown",
   "metadata": {},
   "source": [
    "**Remember the LSA factorziation**: \n",
    "$$ \n",
    "\\begin{matrix} \n",
    " & X  &\\!\\!\\!\\!\\!=\\!\\!\\!\\!\\!& U  & \\Sigma & V^T \\\\\n",
    "  & \\textbf{t}_j   &  & \\hat{ \\textbf{d}_i} & &  \\\\\n",
    " & \\downarrow  &  &\\downarrow  & & \\\\\n",
    "\\textbf{d}_i \\rightarrow \n",
    "&\n",
    "\\begin{pmatrix} \n",
    "x_{1,1} & \\dots & x_{1,d} \\\\\n",
    "\\\\\n",
    "\\vdots & \\ddots & \\vdots \\\\\n",
    "\\\\\n",
    "x_{N,1} & \\dots & x_{N,d} \\\\\n",
    "\\end{pmatrix}\n",
    "&\n",
    "\\!\\!\\!\\!\\!=\\!\\!\\!\\!\\!\n",
    "%&\n",
    "%(\\hat{ \\textbf{t}_j}) \\rightarrow\n",
    "&\n",
    "\\begin{pmatrix} \n",
    "\\begin{pmatrix} &  \\textbf{u}_1 &  \\end{pmatrix} \\\\\n",
    "\\vdots \\\\\n",
    "\\begin{pmatrix}  & \\textbf{u}_k &  \\end{pmatrix}\n",
    "\\end{pmatrix}\n",
    "%&\n",
    "%\\!\\!\\!\\!\\!\\cdot\\!\\!\\!\\!\\!\n",
    "&\n",
    "\\begin{pmatrix} \n",
    "\\sigma_1 & \\dots & 0 \\\\\n",
    "\\vdots & \\ddots & \\vdots \\\\\n",
    "0 & \\dots & \\sigma_k \\\\\n",
    "\\end{pmatrix}\n",
    "%&\n",
    "%\\!\\!\\!\\!\\!\\cdot\\!\\!\\!\\!\\!\n",
    "&\n",
    "\\begin{pmatrix} \n",
    "\\begin{pmatrix} \\, \\\\ \\, \\\\ \\textbf{v}_1 \\\\ \\, \\\\ \\,\\end{pmatrix} \n",
    "\\dots\n",
    "\\begin{pmatrix} \\, \\\\ \\, \\\\ \\textbf{v}_k \\\\ \\, \\\\ \\, \\end{pmatrix}\n",
    "\\end{pmatrix}\n",
    "\\end{matrix}\n",
    "$$"
   ]
  },
  {
   "cell_type": "markdown",
   "metadata": {},
   "source": [
    "- Look at [SVD doc in skelarn](https://scikit-learn.org/stable/modules/generated/sklearn.decomposition.TruncatedSVD.html#sklearn.decomposition.TruncatedSVD)\n",
    "- Do the same qualitative/quantitative evaluation than with K-Means\n",
    "- You can also use LSA as a pre-processing step for K-Means, *i.e.* running K-Means on $\\boldsymbol{U}$ matrix above\n",
    "    - N.B. : try without/with $\\ell_2$ normalization of $\\boldsymbol{U}$'s rows before running  K-Means\n",
    "    - You can also benefit from LSA pre-processing for using [t-SNE visualization](https://scikit-learn.org/stable/modules/generated/sklearn.manifold.TSNE.html) (see code below)\n"
   ]
  },
  {
   "cell_type": "code",
   "execution_count": 29,
   "metadata": {},
   "outputs": [
    {
     "ename": "NameError",
     "evalue": "name 'U' is not defined",
     "output_type": "error",
     "traceback": [
      "\u001b[1;31m---------------------------------------------------------------------------\u001b[0m",
      "\u001b[1;31mNameError\u001b[0m                                 Traceback (most recent call last)",
      "Cell \u001b[1;32mIn[29], line 6\u001b[0m\n\u001b[0;32m      4\u001b[0m \u001b[39mfrom\u001b[39;00m \u001b[39msklearn\u001b[39;00m\u001b[39m.\u001b[39;00m\u001b[39mmanifold\u001b[39;00m \u001b[39mimport\u001b[39;00m TSNE\n\u001b[0;32m      5\u001b[0m tsne \u001b[39m=\u001b[39m TSNE(n_components\u001b[39m=\u001b[39m\u001b[39m2\u001b[39m, init\u001b[39m=\u001b[39m\u001b[39m'\u001b[39m\u001b[39mpca\u001b[39m\u001b[39m'\u001b[39m,n_iter\u001b[39m=\u001b[39m\u001b[39m5000\u001b[39m, verbose\u001b[39m=\u001b[39m\u001b[39m2\u001b[39m)\n\u001b[1;32m----> 6\u001b[0m tsne_mat \u001b[39m=\u001b[39m tsne\u001b[39m.\u001b[39mfit_transform(U)\n",
      "\u001b[1;31mNameError\u001b[0m: name 'U' is not defined"
     ]
    }
   ],
   "source": [
    "# t-SNE from the U matrix computed by LSA\n",
    "svd = sklearn.decomposition.TruncatedSVD(n_components=vectors.shape[1], n_iter=7, random_state=40)\n",
    "svd.fit(vectors)\n",
    "from sklearn.manifold import TSNE\n",
    "tsne = TSNE(n_components=2, init='pca',n_iter=5000, verbose=2)\n",
    "tsne_mat = tsne.fit_transform(U)"
   ]
  },
  {
   "cell_type": "code",
   "execution_count": 51,
   "metadata": {},
   "outputs": [
    {
     "ename": "NameError",
     "evalue": "name 'vectors_SVDn' is not defined",
     "output_type": "error",
     "traceback": [
      "\u001b[0;31m---------------------------------------------------------------------------\u001b[0m",
      "\u001b[0;31mNameError\u001b[0m                                 Traceback (most recent call last)",
      "Cell \u001b[0;32mIn [51], line 1\u001b[0m\n\u001b[0;32m----> 1\u001b[0m NN2cluster \u001b[38;5;241m=\u001b[39m np\u001b[38;5;241m.\u001b[39margmax(np\u001b[38;5;241m.\u001b[39mabs(vectors_SVDn), axis\u001b[38;5;241m=\u001b[39m\u001b[38;5;241m0\u001b[39m)\n\u001b[1;32m      2\u001b[0m \u001b[38;5;66;03m#import seaborn as sns\u001b[39;00m\n\u001b[1;32m      3\u001b[0m \u001b[38;5;28;01mimport\u001b[39;00m \u001b[38;5;21;01mmatplotlib\u001b[39;00m\u001b[38;5;21;01m.\u001b[39;00m\u001b[38;5;21;01mcm\u001b[39;00m \u001b[38;5;28;01mas\u001b[39;00m \u001b[38;5;21;01mcm\u001b[39;00m\n",
      "\u001b[0;31mNameError\u001b[0m: name 'vectors_SVDn' is not defined"
     ]
    }
   ],
   "source": [
    "NN2cluster = np.argmax(np.abs(vectors_SVD), axis=0)\n",
    "#import seaborn as sns\n",
    "import matplotlib.cm as cm\n",
    "cmap = cm.tab20\n",
    "cmap = cm.get_cmap('hsv', 20) \n",
    "cmap = cm.get_cmap('jet', 20)\n",
    "#cmap = cm.tab20\n",
    "\n",
    "plt.figure(figsize=(15,10))\n",
    "plt.scatter(tsne_mat[:,0],tsne_mat[:,1], c=Y, cmap=cmap, s=10)\n",
    "plt.scatter(tsne_mat[NN2cluster[:],0],tsne_mat[NN2cluster[:],1], c='black', s=100)\n",
    "#plt.scatter(tsne_mat[NN2cluster2[:],0],tsne_mat[NN2cluster2[:],1], c='red', s=100)\n",
    "plt.colorbar(ticks=range(20))"
   ]
  },
  {
   "cell_type": "markdown",
   "metadata": {},
   "source": [
    "# 3) Latent Dirichlet Allocation (LDA)"
   ]
  },
  {
   "cell_type": "markdown",
   "metadata": {},
   "source": [
    "Perform the same experiments with LDA:\n",
    "- LDA\n",
    "https://scikit-learn.org/stable/modules/generated/sklearn.decomposition.LatentDirichletAllocation.html\n"
   ]
  },
  {
   "cell_type": "markdown",
   "metadata": {},
   "source": [
    "**Start with a CountVectorizer**"
   ]
  },
  {
   "cell_type": "code",
   "execution_count": 30,
   "metadata": {},
   "outputs": [
    {
     "name": "stderr",
     "output_type": "stream",
     "text": [
      "c:\\Python\\Python311\\Lib\\site-packages\\sklearn\\feature_extraction\\text.py:528: UserWarning: The parameter 'token_pattern' will not be used since 'tokenizer' is not None'\n",
      "  warnings.warn(\n"
     ]
    },
    {
     "name": "stdout",
     "output_type": "stream",
     "text": [
      "(11314, 1000)\n",
      "48.02527841612162\n"
     ]
    }
   ],
   "source": [
    "from nltk.tokenize import RegexpTokenizer\n",
    "from sklearn.feature_extraction.text import CountVectorizer\n",
    "\n",
    "# Initialize regex tokenizer\n",
    "tokenizer = RegexpTokenizer(r'\\w+')\n",
    "\n",
    "# Vectorize document using TF-IDF\n",
    "vectorizer = CountVectorizer(lowercase=True,\n",
    "                        stop_words='english',\n",
    "                        ngram_range = (1,1),\n",
    "                        tokenizer = tokenizer.tokenize, max_df=0.95, min_df=2, max_features=1000)\n",
    "\n",
    "vectors = vectorizer.fit_transform(newsgroups_train.data)\n",
    "print(vectors.shape)\n",
    "print(vectors.nnz / float(vectors.shape[0]))\n",
    "\n"
   ]
  },
  {
   "cell_type": "markdown",
   "metadata": {},
   "source": [
    "## LDA-viz"
   ]
  },
  {
   "cell_type": "code",
   "execution_count": null,
   "metadata": {},
   "outputs": [],
   "source": [
    "# pip install install pyldavis\n",
    "from __future__ import print_function\n",
    "\n",
    "import pyLDAvis\n",
    "import pyLDAvis.sklearn\n",
    "pyLDAvis.enable_notebook()\n",
    "\n",
    "\n",
    "pyLDAvis.sklearn.prepare(lda,vectors,vectorizer)"
   ]
  },
  {
   "cell_type": "markdown",
   "metadata": {},
   "source": [
    "# Performances evaluation"
   ]
  },
  {
   "cell_type": "markdown",
   "metadata": {},
   "source": [
    "**Compare the different approaches wrt three quantitative metrics.**"
   ]
  }
 ],
 "metadata": {
  "kernelspec": {
   "display_name": "Python 3",
   "language": "python",
   "name": "python3"
  },
  "language_info": {
   "codemirror_mode": {
    "name": "ipython",
    "version": 3
   },
   "file_extension": ".py",
   "mimetype": "text/x-python",
   "name": "python",
   "nbconvert_exporter": "python",
   "pygments_lexer": "ipython3",
   "version": "3.11.0"
  }
 },
 "nbformat": 4,
 "nbformat_minor": 4
}
